{
 "cells": [
  {
   "cell_type": "code",
   "execution_count": 1,
   "id": "046c9138-5641-45c0-97ee-3734f25b0048",
   "metadata": {},
   "outputs": [],
   "source": [
    "import tensorflow as tf"
   ]
  },
  {
   "cell_type": "code",
   "execution_count": 5,
   "id": "f271fc24-76a6-4ff7-a458-0363cf5fee7d",
   "metadata": {},
   "outputs": [],
   "source": [
    "con=tf.lite.TFLiteConverter.from_saved_model(\"My_Model\")\n",
    "tf_lite_model=con.convert()"
   ]
  },
  {
   "cell_type": "code",
   "execution_count": 7,
   "id": "c12a880c-9875-4ec0-8f51-22d5437d7233",
   "metadata": {},
   "outputs": [
    {
     "data": {
      "text/plain": [
       "26320"
      ]
     },
     "execution_count": 7,
     "metadata": {},
     "output_type": "execute_result"
    }
   ],
   "source": [
    "len(tf_lite_model)"
   ]
  },
  {
   "cell_type": "code",
   "execution_count": 23,
   "id": "4ca66a58-cab3-4373-ac09-af56338d37c0",
   "metadata": {},
   "outputs": [],
   "source": [
    "con=tf.lite.TFLiteConverter.from_saved_model(\"My_Model\")\n",
    "con.optimizations=[tf.lite.Optimize.DEFAULT]\n",
    "tf_quant_model=con.convert()"
   ]
  },
  {
   "cell_type": "code",
   "execution_count": 25,
   "id": "e3e0da61-0ba8-454e-a553-20cfe0778d10",
   "metadata": {},
   "outputs": [
    {
     "data": {
      "text/plain": [
       "10224"
      ]
     },
     "execution_count": 25,
     "metadata": {},
     "output_type": "execute_result"
    }
   ],
   "source": [
    "len(tf_quant_model)"
   ]
  },
  {
   "cell_type": "code",
   "execution_count": 29,
   "id": "228d6258-ecac-4e3d-a478-2efb2f9af045",
   "metadata": {},
   "outputs": [],
   "source": [
    "with open(\"tf_lite_model.tflite\",'wb') as f:\n",
    "    f.write(tf_lite_model)"
   ]
  },
  {
   "cell_type": "code",
   "execution_count": 33,
   "id": "3a0aecb8-a171-41be-8532-ca919a144b36",
   "metadata": {},
   "outputs": [],
   "source": [
    "with open(\"tf_quant_model.tflite\",'wb') as f:\n",
    "    f.write(tf_quant_model)"
   ]
  },
  {
   "cell_type": "code",
   "execution_count": null,
   "id": "46e729cc-2add-4f54-b059-2b00100e144d",
   "metadata": {},
   "outputs": [],
   "source": []
  }
 ],
 "metadata": {
  "kernelspec": {
   "display_name": "Python 3 (ipykernel)",
   "language": "python",
   "name": "python3"
  },
  "language_info": {
   "codemirror_mode": {
    "name": "ipython",
    "version": 3
   },
   "file_extension": ".py",
   "mimetype": "text/x-python",
   "name": "python",
   "nbconvert_exporter": "python",
   "pygments_lexer": "ipython3",
   "version": "3.12.9"
  }
 },
 "nbformat": 4,
 "nbformat_minor": 5
}
