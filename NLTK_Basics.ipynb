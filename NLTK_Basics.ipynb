{
 "cells": [
  {
   "cell_type": "code",
   "execution_count": 1,
   "id": "fdf8d59f-4d2f-446e-9482-a79a5ff02ff2",
   "metadata": {},
   "outputs": [],
   "source": [
    "import nltk\n"
   ]
  },
  {
   "cell_type": "code",
   "execution_count": 99,
   "id": "1815e732-0ad1-4b41-86c8-2935f84feb4d",
   "metadata": {},
   "outputs": [
    {
     "name": "stderr",
     "output_type": "stream",
     "text": [
      "[nltk_data] Downloading package vader_lexicon to\n",
      "[nltk_data]     C:\\Users\\ADMIN\\AppData\\Roaming\\nltk_data...\n"
     ]
    },
    {
     "data": {
      "text/plain": [
       "True"
      ]
     },
     "execution_count": 99,
     "metadata": {},
     "output_type": "execute_result"
    }
   ],
   "source": [
    "nltk.download('punkt')\n",
    "nltk.download('stopwords')\n",
    "nltk.download('vader_lexicon')\n",
    "nltk.download('wordnet')"
   ]
  },
  {
   "cell_type": "code",
   "execution_count": 18,
   "id": "d0f7e7ce-3d7a-419a-b5cf-d35d0c468b48",
   "metadata": {},
   "outputs": [
    {
     "name": "stdout",
     "output_type": "stream",
     "text": [
      "This is NLTK Word Tokenizer :['A', 'sentence', 'is', 'a', 'group', 'of', 'words', 'that', 'expresses', 'a', 'complete', 'thought', ',', 'typically', 'containing', 'a', 'subject', 'and', 'a', 'verb', ',', 'and', 'when', 'written', ',', 'begins', 'with', 'a', 'capital', 'letter', 'and', 'ends', 'with', 'punctuation', '.']\n",
      "This is NLTK Sentence Tokenizer :['A sentence is a group of words that expresses a complete thought, typically containing a subject and a verb, and when written, begins with a capital letter and ends with punctuation.']\n"
     ]
    }
   ],
   "source": [
    "sent='A sentence is a group of words that expresses a complete thought, typically containing a subject and a verb, and when written, begins with a capital letter and ends with punctuation. '\n",
    "\n",
    "word_token=nltk.tokenize.word_tokenize(sent)\n",
    "sent_token=nltk.tokenize.sent_tokenize(sent)\n",
    "print(f'This is NLTK Word Tokenizer :{word_token}\\nThis is NLTK Sentence Tokenizer :{sent_token}')"
   ]
  },
  {
   "cell_type": "code",
   "execution_count": 36,
   "id": "c514412b-c3da-4a9a-9cbf-fc1b11dc44ca",
   "metadata": {},
   "outputs": [
    {
     "name": "stdout",
     "output_type": "stream",
     "text": [
      "[('a', 5), (',', 3), ('and', 3), ('with', 2), ('A', 1)]\n"
     ]
    }
   ],
   "source": [
    "word_frequency=nltk.FreqDist(word_token)\n",
    "print(word_frequency.most_common(5))"
   ]
  },
  {
   "cell_type": "code",
   "execution_count": 89,
   "id": "52d37236-ae69-41ad-ae7a-488142a66fc3",
   "metadata": {},
   "outputs": [],
   "source": [
    "stop_word_list=nltk.corpus.stopwords.words('english')"
   ]
  },
  {
   "cell_type": "code",
   "execution_count": 91,
   "id": "49593445-13c5-4ae9-8658-6c1ede9abe19",
   "metadata": {},
   "outputs": [
    {
     "name": "stdout",
     "output_type": "stream",
     "text": [
      "['A', 'sentence', 'group', 'words', 'expresses', 'complete', 'thought', ',', 'typically', 'containing', 'subject', 'verb', ',', 'written', ',', 'begins', 'capital', 'letter', 'ends', 'punctuation', '.']\n"
     ]
    }
   ],
   "source": [
    "sent_without_stopwords=[]\n",
    "for word in word_token:\n",
    "    if word not in stop_word_list:\n",
    "        sent_without_stopwords.append(word)\n",
    "\n",
    "print(sent_without_stopwords)"
   ]
  },
  {
   "cell_type": "code",
   "execution_count": 101,
   "id": "09b0ab18-8e0d-4712-b4a9-37203b287390",
   "metadata": {},
   "outputs": [],
   "source": [
    "stemming=nltk.stem.PorterStemmer()\n",
    "lemmitizing=nltk.stem.WordNetLemmatizer()"
   ]
  },
  {
   "cell_type": "code",
   "execution_count": 139,
   "id": "88b95137-9b2a-44d2-881a-a616be5d5b6f",
   "metadata": {},
   "outputs": [],
   "source": [
    "sent_2='Singing, Running, Eating, Walking, Working, Playing, Studying, Dancing, Reading, Writing, Swimming, Laughing, Smiling, Crying, Thinking, Dreaming, Building, Creating, Discovering, Exploring, Understanding, Enjoying, Listening, Watching, Speaking, Hoping, Believing, Knowing, Remembering, Forging, Shining, Smiling, Shouting, Whispering, Dancing, Jumping, Skipping, Running, Walking, Playing, Singing, Dancing, Laughing, Smiling, Crying, Thinking, Dreaming, Building, Creating, Discovering, Exploring, Understanding, Enjoying, Listening, Watching, and Speaking.'"
   ]
  },
  {
   "cell_type": "code",
   "execution_count": 143,
   "id": "606b91e8-f063-4964-8eb2-db513f0b08fb",
   "metadata": {},
   "outputs": [
    {
     "name": "stdout",
     "output_type": "stream",
     "text": [
      "Orignal Word: Singing\t Stemmed Word: sing\t Lemmetized Word: Singing\n",
      "Orignal Word: ,\t Stemmed Word: ,\t Lemmetized Word: ,\n",
      "Orignal Word: Running\t Stemmed Word: run\t Lemmetized Word: Running\n",
      "Orignal Word: ,\t Stemmed Word: ,\t Lemmetized Word: ,\n",
      "Orignal Word: Eating\t Stemmed Word: eat\t Lemmetized Word: Eating\n",
      "Orignal Word: ,\t Stemmed Word: ,\t Lemmetized Word: ,\n",
      "Orignal Word: Walking\t Stemmed Word: walk\t Lemmetized Word: Walking\n",
      "Orignal Word: ,\t Stemmed Word: ,\t Lemmetized Word: ,\n",
      "Orignal Word: Working\t Stemmed Word: work\t Lemmetized Word: Working\n",
      "Orignal Word: ,\t Stemmed Word: ,\t Lemmetized Word: ,\n",
      "Orignal Word: Playing\t Stemmed Word: play\t Lemmetized Word: Playing\n",
      "Orignal Word: ,\t Stemmed Word: ,\t Lemmetized Word: ,\n",
      "Orignal Word: Studying\t Stemmed Word: studi\t Lemmetized Word: Studying\n",
      "Orignal Word: ,\t Stemmed Word: ,\t Lemmetized Word: ,\n",
      "Orignal Word: Dancing\t Stemmed Word: danc\t Lemmetized Word: Dancing\n",
      "Orignal Word: ,\t Stemmed Word: ,\t Lemmetized Word: ,\n",
      "Orignal Word: Reading\t Stemmed Word: read\t Lemmetized Word: Reading\n",
      "Orignal Word: ,\t Stemmed Word: ,\t Lemmetized Word: ,\n",
      "Orignal Word: Writing\t Stemmed Word: write\t Lemmetized Word: Writing\n",
      "Orignal Word: ,\t Stemmed Word: ,\t Lemmetized Word: ,\n",
      "Orignal Word: Swimming\t Stemmed Word: swim\t Lemmetized Word: Swimming\n",
      "Orignal Word: ,\t Stemmed Word: ,\t Lemmetized Word: ,\n",
      "Orignal Word: Laughing\t Stemmed Word: laugh\t Lemmetized Word: Laughing\n",
      "Orignal Word: ,\t Stemmed Word: ,\t Lemmetized Word: ,\n",
      "Orignal Word: Smiling\t Stemmed Word: smile\t Lemmetized Word: Smiling\n",
      "Orignal Word: ,\t Stemmed Word: ,\t Lemmetized Word: ,\n",
      "Orignal Word: Crying\t Stemmed Word: cri\t Lemmetized Word: Crying\n",
      "Orignal Word: ,\t Stemmed Word: ,\t Lemmetized Word: ,\n",
      "Orignal Word: Thinking\t Stemmed Word: think\t Lemmetized Word: Thinking\n",
      "Orignal Word: ,\t Stemmed Word: ,\t Lemmetized Word: ,\n",
      "Orignal Word: Dreaming\t Stemmed Word: dream\t Lemmetized Word: Dreaming\n",
      "Orignal Word: ,\t Stemmed Word: ,\t Lemmetized Word: ,\n",
      "Orignal Word: Building\t Stemmed Word: build\t Lemmetized Word: Building\n",
      "Orignal Word: ,\t Stemmed Word: ,\t Lemmetized Word: ,\n",
      "Orignal Word: Creating\t Stemmed Word: creat\t Lemmetized Word: Creating\n",
      "Orignal Word: ,\t Stemmed Word: ,\t Lemmetized Word: ,\n",
      "Orignal Word: Discovering\t Stemmed Word: discov\t Lemmetized Word: Discovering\n",
      "Orignal Word: ,\t Stemmed Word: ,\t Lemmetized Word: ,\n",
      "Orignal Word: Exploring\t Stemmed Word: explor\t Lemmetized Word: Exploring\n",
      "Orignal Word: ,\t Stemmed Word: ,\t Lemmetized Word: ,\n",
      "Orignal Word: Understanding\t Stemmed Word: understand\t Lemmetized Word: Understanding\n",
      "Orignal Word: ,\t Stemmed Word: ,\t Lemmetized Word: ,\n",
      "Orignal Word: Enjoying\t Stemmed Word: enjoy\t Lemmetized Word: Enjoying\n",
      "Orignal Word: ,\t Stemmed Word: ,\t Lemmetized Word: ,\n",
      "Orignal Word: Listening\t Stemmed Word: listen\t Lemmetized Word: Listening\n",
      "Orignal Word: ,\t Stemmed Word: ,\t Lemmetized Word: ,\n",
      "Orignal Word: Watching\t Stemmed Word: watch\t Lemmetized Word: Watching\n",
      "Orignal Word: ,\t Stemmed Word: ,\t Lemmetized Word: ,\n",
      "Orignal Word: Speaking\t Stemmed Word: speak\t Lemmetized Word: Speaking\n",
      "Orignal Word: ,\t Stemmed Word: ,\t Lemmetized Word: ,\n",
      "Orignal Word: Hoping\t Stemmed Word: hope\t Lemmetized Word: Hoping\n",
      "Orignal Word: ,\t Stemmed Word: ,\t Lemmetized Word: ,\n",
      "Orignal Word: Believing\t Stemmed Word: believ\t Lemmetized Word: Believing\n",
      "Orignal Word: ,\t Stemmed Word: ,\t Lemmetized Word: ,\n",
      "Orignal Word: Knowing\t Stemmed Word: know\t Lemmetized Word: Knowing\n",
      "Orignal Word: ,\t Stemmed Word: ,\t Lemmetized Word: ,\n",
      "Orignal Word: Remembering\t Stemmed Word: rememb\t Lemmetized Word: Remembering\n",
      "Orignal Word: ,\t Stemmed Word: ,\t Lemmetized Word: ,\n",
      "Orignal Word: Forging\t Stemmed Word: forg\t Lemmetized Word: Forging\n",
      "Orignal Word: ,\t Stemmed Word: ,\t Lemmetized Word: ,\n",
      "Orignal Word: Shining\t Stemmed Word: shine\t Lemmetized Word: Shining\n",
      "Orignal Word: ,\t Stemmed Word: ,\t Lemmetized Word: ,\n",
      "Orignal Word: Smiling\t Stemmed Word: smile\t Lemmetized Word: Smiling\n",
      "Orignal Word: ,\t Stemmed Word: ,\t Lemmetized Word: ,\n",
      "Orignal Word: Shouting\t Stemmed Word: shout\t Lemmetized Word: Shouting\n",
      "Orignal Word: ,\t Stemmed Word: ,\t Lemmetized Word: ,\n",
      "Orignal Word: Whispering\t Stemmed Word: whisper\t Lemmetized Word: Whispering\n",
      "Orignal Word: ,\t Stemmed Word: ,\t Lemmetized Word: ,\n",
      "Orignal Word: Dancing\t Stemmed Word: danc\t Lemmetized Word: Dancing\n",
      "Orignal Word: ,\t Stemmed Word: ,\t Lemmetized Word: ,\n",
      "Orignal Word: Jumping\t Stemmed Word: jump\t Lemmetized Word: Jumping\n",
      "Orignal Word: ,\t Stemmed Word: ,\t Lemmetized Word: ,\n",
      "Orignal Word: Skipping\t Stemmed Word: skip\t Lemmetized Word: Skipping\n",
      "Orignal Word: ,\t Stemmed Word: ,\t Lemmetized Word: ,\n",
      "Orignal Word: Running\t Stemmed Word: run\t Lemmetized Word: Running\n",
      "Orignal Word: ,\t Stemmed Word: ,\t Lemmetized Word: ,\n",
      "Orignal Word: Walking\t Stemmed Word: walk\t Lemmetized Word: Walking\n",
      "Orignal Word: ,\t Stemmed Word: ,\t Lemmetized Word: ,\n",
      "Orignal Word: Playing\t Stemmed Word: play\t Lemmetized Word: Playing\n",
      "Orignal Word: ,\t Stemmed Word: ,\t Lemmetized Word: ,\n",
      "Orignal Word: Singing\t Stemmed Word: sing\t Lemmetized Word: Singing\n",
      "Orignal Word: ,\t Stemmed Word: ,\t Lemmetized Word: ,\n",
      "Orignal Word: Dancing\t Stemmed Word: danc\t Lemmetized Word: Dancing\n",
      "Orignal Word: ,\t Stemmed Word: ,\t Lemmetized Word: ,\n",
      "Orignal Word: Laughing\t Stemmed Word: laugh\t Lemmetized Word: Laughing\n",
      "Orignal Word: ,\t Stemmed Word: ,\t Lemmetized Word: ,\n",
      "Orignal Word: Smiling\t Stemmed Word: smile\t Lemmetized Word: Smiling\n",
      "Orignal Word: ,\t Stemmed Word: ,\t Lemmetized Word: ,\n",
      "Orignal Word: Crying\t Stemmed Word: cri\t Lemmetized Word: Crying\n",
      "Orignal Word: ,\t Stemmed Word: ,\t Lemmetized Word: ,\n",
      "Orignal Word: Thinking\t Stemmed Word: think\t Lemmetized Word: Thinking\n",
      "Orignal Word: ,\t Stemmed Word: ,\t Lemmetized Word: ,\n",
      "Orignal Word: Dreaming\t Stemmed Word: dream\t Lemmetized Word: Dreaming\n",
      "Orignal Word: ,\t Stemmed Word: ,\t Lemmetized Word: ,\n",
      "Orignal Word: Building\t Stemmed Word: build\t Lemmetized Word: Building\n",
      "Orignal Word: ,\t Stemmed Word: ,\t Lemmetized Word: ,\n",
      "Orignal Word: Creating\t Stemmed Word: creat\t Lemmetized Word: Creating\n",
      "Orignal Word: ,\t Stemmed Word: ,\t Lemmetized Word: ,\n",
      "Orignal Word: Discovering\t Stemmed Word: discov\t Lemmetized Word: Discovering\n",
      "Orignal Word: ,\t Stemmed Word: ,\t Lemmetized Word: ,\n",
      "Orignal Word: Exploring\t Stemmed Word: explor\t Lemmetized Word: Exploring\n",
      "Orignal Word: ,\t Stemmed Word: ,\t Lemmetized Word: ,\n",
      "Orignal Word: Understanding\t Stemmed Word: understand\t Lemmetized Word: Understanding\n",
      "Orignal Word: ,\t Stemmed Word: ,\t Lemmetized Word: ,\n",
      "Orignal Word: Enjoying\t Stemmed Word: enjoy\t Lemmetized Word: Enjoying\n",
      "Orignal Word: ,\t Stemmed Word: ,\t Lemmetized Word: ,\n",
      "Orignal Word: Listening\t Stemmed Word: listen\t Lemmetized Word: Listening\n",
      "Orignal Word: ,\t Stemmed Word: ,\t Lemmetized Word: ,\n",
      "Orignal Word: Watching\t Stemmed Word: watch\t Lemmetized Word: Watching\n",
      "Orignal Word: ,\t Stemmed Word: ,\t Lemmetized Word: ,\n",
      "Orignal Word: Speaking\t Stemmed Word: speak\t Lemmetized Word: Speaking\n",
      "Orignal Word: .\t Stemmed Word: .\t Lemmetized Word: .\n"
     ]
    }
   ],
   "source": [
    "word_tokneize_2=nltk.tokenize.word_tokenize(sent_2)\n",
    "for word in word_tokneize_2:\n",
    "    if word not in stop_word_list:\n",
    "        print(f'Orignal Word: {word}\\t Stemmed Word: {stemming.stem(word)}\\t Lemmetized Word: {lemmitizing.lemmatize(word)}')\n",
    "        "
   ]
  },
  {
   "cell_type": "code",
   "execution_count": 183,
   "id": "2c041dec-b613-4634-902a-b1ea20f4dd40",
   "metadata": {},
   "outputs": [],
   "source": [
    "sent_list=[\"I had a great experience with the online support chat, the agent was very patient and helpful.\",\n",
    "\"Worst Experience of My Life\"\n",
    "\"The shipping was very slow, and the product arrived damaged.\",\n",
    "\"I'm not sure if I'll recommend this product, it's not worth the price.\",\n",
    "\"I was very impressed with the quality of the product and the customer service.\",\n",
    "\"The product is functional but the design is a bit outdated.\",\n",
    "\"The website is easy to navigate and the checkout process was smooth.\",\n",
    "\"I had a frustrating experience with the product, it didn't work as expected.\",\n",
    "\"I would not recommend this product to anyone.\",\n",
    "\"The customer service was responsive and helpful.\",\n",
    "\"The product is good, but there are some issues with the software.\",\n",
    "\"I was very happy with the overall experience.\",\n",
    "\"The product was okay, but I expected more.\",\n",
    "\"The service was fast and efficient.\",\n",
    "\"I had a positive experience with the company.\",\n",
    "\"The product is not worth the money.\",\n",
    "\"The customer service was terrible.\",\n",
    "\"I would not recommend this company.\",\n",
    "\"The product is good, but it could be better.\",\n",
    "\"The service was average.\",\n",
    "\"I had a mixed experience.\",\n",
    "\"The product is functional, but not user-friendly.\",\n",
    "\"The website is difficult to navigate.\",\n",
    "\"The checkout process was confusing.\",\n",
    "\"I had a negative experience with the company.\",\n",
    "\"The product is not worth buying.\",\n",
    "\"The customer service was not helpful.\",\n",
    "\"I would not recommend this company to anyone.\",\n",
    "\"The product is good, but it has some flaws.\",\n",
    "\"The service was slow and inefficient.\",\n",
    "\"I had a terrible experience with the company.\",\n",
    "\"The product is a waste of money.\",\n",
    "\"The customer service was rude and unhelpful.\",\n",
    "\"I would never recommend this company.\",\n",
    "\"The product is not what I expected.\",\n",
    "\"The service was not what I expected.\",\n",
    "\"I had a bad experience with the company.\",\n",
    "\"The product is not worth the time.\",\n",
    "\"The customer service was terrible.\",\n",
    "\"I would never recommend this company to anyone.\",\n",
    "\"The product is not worth the effort.\",\n",
    "\"The service was not worth the money.\",\n",
    "\"I had a horrible experience with the company.\",\n",
    "\"The product is not worth the hassle.\",\n",
    "\"The customer service was awful.\",\n",
    "\"I would never recommend this company.\"]"
   ]
  },
  {
   "cell_type": "code",
   "execution_count": 185,
   "id": "6a7ea7b4-84db-48a2-be0b-11462e90888e",
   "metadata": {},
   "outputs": [],
   "source": [
    "from nltk.sentiment import SentimentIntensityAnalyzer\n",
    "sa=SentimentIntensityAnalyzer()\n",
    "scores=[]\n",
    "for sent in sent_list:\n",
    "   scores.append(sa.polarity_scores(sent))"
   ]
  },
  {
   "cell_type": "code",
   "execution_count": 187,
   "id": "b7b9ef6b-e567-4c37-a58a-49607c0ca95f",
   "metadata": {},
   "outputs": [
    {
     "name": "stdout",
     "output_type": "stream",
     "text": [
      "I had a great experience with the online support chat, the agent was very patient and helpful.\n",
      "{'neg': 0.0, 'neu': 0.549, 'pos': 0.451, 'compound': 0.8709}\n",
      "Worst Experience of My LifeThe shipping was very slow, and the product arrived damaged.\n",
      "{'neg': 0.368, 'neu': 0.632, 'pos': 0.0, 'compound': -0.7906}\n",
      "I'm not sure if I'll recommend this product, it's not worth the price.\n",
      "{'neg': 0.225, 'neu': 0.62, 'pos': 0.155, 'compound': -0.033}\n",
      "I was very impressed with the quality of the product and the customer service.\n",
      "{'neg': 0.0, 'neu': 0.78, 'pos': 0.22, 'compound': 0.5256}\n",
      "The product is functional but the design is a bit outdated.\n",
      "{'neg': 0.0, 'neu': 1.0, 'pos': 0.0, 'compound': 0.0}\n",
      "The website is easy to navigate and the checkout process was smooth.\n",
      "{'neg': 0.0, 'neu': 0.791, 'pos': 0.209, 'compound': 0.4404}\n",
      "I had a frustrating experience with the product, it didn't work as expected.\n",
      "{'neg': 0.225, 'neu': 0.775, 'pos': 0.0, 'compound': -0.4404}\n",
      "I would not recommend this product to anyone.\n",
      "{'neg': 0.26, 'neu': 0.74, 'pos': 0.0, 'compound': -0.2755}\n",
      "The customer service was responsive and helpful.\n",
      "{'neg': 0.0, 'neu': 0.485, 'pos': 0.515, 'compound': 0.6486}\n",
      "The product is good, but there are some issues with the software.\n",
      "{'neg': 0.0, 'neu': 0.849, 'pos': 0.151, 'compound': 0.2382}\n",
      "I was very happy with the overall experience.\n",
      "{'neg': 0.0, 'neu': 0.6, 'pos': 0.4, 'compound': 0.6115}\n",
      "The product was okay, but I expected more.\n",
      "{'neg': 0.0, 'neu': 0.805, 'pos': 0.195, 'compound': 0.1154}\n",
      "The service was fast and efficient.\n",
      "{'neg': 0.0, 'neu': 0.641, 'pos': 0.359, 'compound': 0.4215}\n",
      "I had a positive experience with the company.\n",
      "{'neg': 0.0, 'neu': 0.581, 'pos': 0.419, 'compound': 0.5574}\n",
      "The product is not worth the money.\n",
      "{'neg': 0.217, 'neu': 0.783, 'pos': 0.0, 'compound': -0.1695}\n",
      "The customer service was terrible.\n",
      "{'neg': 0.437, 'neu': 0.563, 'pos': 0.0, 'compound': -0.4767}\n",
      "I would not recommend this company.\n",
      "{'neg': 0.345, 'neu': 0.655, 'pos': 0.0, 'compound': -0.2755}\n",
      "The product is good, but it could be better.\n",
      "{'neg': 0.0, 'neu': 0.547, 'pos': 0.453, 'compound': 0.7003}\n",
      "The service was average.\n",
      "{'neg': 0.0, 'neu': 1.0, 'pos': 0.0, 'compound': 0.0}\n",
      "I had a mixed experience.\n",
      "{'neg': 0.0, 'neu': 1.0, 'pos': 0.0, 'compound': 0.0}\n",
      "The product is functional, but not user-friendly.\n",
      "{'neg': 0.0, 'neu': 1.0, 'pos': 0.0, 'compound': 0.0}\n",
      "The website is difficult to navigate.\n",
      "{'neg': 0.333, 'neu': 0.667, 'pos': 0.0, 'compound': -0.3612}\n",
      "The checkout process was confusing.\n",
      "{'neg': 0.322, 'neu': 0.678, 'pos': 0.0, 'compound': -0.2263}\n",
      "I had a negative experience with the company.\n",
      "{'neg': 0.425, 'neu': 0.575, 'pos': 0.0, 'compound': -0.5719}\n",
      "The product is not worth buying.\n",
      "{'neg': 0.25, 'neu': 0.75, 'pos': 0.0, 'compound': -0.1695}\n",
      "The customer service was not helpful.\n",
      "{'neg': 0.318, 'neu': 0.682, 'pos': 0.0, 'compound': -0.3252}\n",
      "I would not recommend this company to anyone.\n",
      "{'neg': 0.26, 'neu': 0.74, 'pos': 0.0, 'compound': -0.2755}\n",
      "The product is good, but it has some flaws.\n",
      "{'neg': 0.0, 'neu': 0.804, 'pos': 0.196, 'compound': 0.2382}\n",
      "The service was slow and inefficient.\n",
      "{'neg': 0.0, 'neu': 1.0, 'pos': 0.0, 'compound': 0.0}\n",
      "I had a terrible experience with the company.\n",
      "{'neg': 0.383, 'neu': 0.617, 'pos': 0.0, 'compound': -0.4767}\n",
      "The product is a waste of money.\n",
      "{'neg': 0.359, 'neu': 0.641, 'pos': 0.0, 'compound': -0.4215}\n",
      "The customer service was rude and unhelpful.\n",
      "{'neg': 0.333, 'neu': 0.667, 'pos': 0.0, 'compound': -0.4588}\n",
      "I would never recommend this company.\n",
      "{'neg': 0.345, 'neu': 0.655, 'pos': 0.0, 'compound': -0.2755}\n",
      "The product is not what I expected.\n",
      "{'neg': 0.0, 'neu': 1.0, 'pos': 0.0, 'compound': 0.0}\n",
      "The service was not what I expected.\n",
      "{'neg': 0.0, 'neu': 1.0, 'pos': 0.0, 'compound': 0.0}\n",
      "I had a bad experience with the company.\n",
      "{'neg': 0.412, 'neu': 0.588, 'pos': 0.0, 'compound': -0.5423}\n",
      "The product is not worth the time.\n",
      "{'neg': 0.217, 'neu': 0.783, 'pos': 0.0, 'compound': -0.1695}\n",
      "The customer service was terrible.\n",
      "{'neg': 0.437, 'neu': 0.563, 'pos': 0.0, 'compound': -0.4767}\n",
      "I would never recommend this company to anyone.\n",
      "{'neg': 0.26, 'neu': 0.74, 'pos': 0.0, 'compound': -0.2755}\n",
      "The product is not worth the effort.\n",
      "{'neg': 0.217, 'neu': 0.783, 'pos': 0.0, 'compound': -0.1695}\n",
      "The service was not worth the money.\n",
      "{'neg': 0.217, 'neu': 0.783, 'pos': 0.0, 'compound': -0.1695}\n",
      "I had a horrible experience with the company.\n",
      "{'neg': 0.412, 'neu': 0.588, 'pos': 0.0, 'compound': -0.5423}\n",
      "The product is not worth the hassle.\n",
      "{'neg': 0.217, 'neu': 0.783, 'pos': 0.0, 'compound': -0.1695}\n",
      "The customer service was awful.\n",
      "{'neg': 0.429, 'neu': 0.571, 'pos': 0.0, 'compound': -0.4588}\n",
      "I would never recommend this company.\n",
      "{'neg': 0.345, 'neu': 0.655, 'pos': 0.0, 'compound': -0.2755}\n"
     ]
    }
   ],
   "source": [
    "for i in range(len(scores)):\n",
    "    print(sent_list[i])\n",
    "    print(scores[i])"
   ]
  }
 ],
 "metadata": {
  "kernelspec": {
   "display_name": "Python 3 (ipykernel)",
   "language": "python",
   "name": "python3"
  },
  "language_info": {
   "codemirror_mode": {
    "name": "ipython",
    "version": 3
   },
   "file_extension": ".py",
   "mimetype": "text/x-python",
   "name": "python",
   "nbconvert_exporter": "python",
   "pygments_lexer": "ipython3",
   "version": "3.12.9"
  }
 },
 "nbformat": 4,
 "nbformat_minor": 5
}
