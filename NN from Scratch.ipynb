{
 "cells": [
  {
   "cell_type": "code",
   "execution_count": 11,
   "id": "330216fb-015e-4022-a8b6-806856cdf67a",
   "metadata": {},
   "outputs": [],
   "source": [
    "import numpy as np\n",
    "import pandas as pd\n",
    "from sklearn.model_selection import train_test_split"
   ]
  },
  {
   "cell_type": "code",
   "execution_count": 25,
   "id": "347f53c9-d101-42a7-aa31-6d6a7000bbb8",
   "metadata": {},
   "outputs": [],
   "source": [
    "df=pd.read_csv('insurance_data.csv')"
   ]
  },
  {
   "cell_type": "code",
   "execution_count": 27,
   "id": "c97e8320-a3f6-42f2-b7c1-5bf140d2a751",
   "metadata": {},
   "outputs": [],
   "source": [
    "x=df.drop('bought_insurance',axis=1)\n",
    "y=df.bought_insurance"
   ]
  },
  {
   "cell_type": "code",
   "execution_count": 29,
   "id": "e7025f12-f55c-4199-b3d0-a6c8fd30abd5",
   "metadata": {},
   "outputs": [],
   "source": [
    "x_train,x_test,y_train,y_test=train_test_split(x,y,test_size=0.2,random_state=25)"
   ]
  },
  {
   "cell_type": "code",
   "execution_count": 59,
   "id": "a844bed6-0d33-410a-b322-cd21168511ac",
   "metadata": {},
   "outputs": [],
   "source": [
    "x_train_scaled=x_train.copy()\n",
    "x_train_scaled['age']=x_train_scaled['age']/100\n",
    "x_test_scaled=x_test.copy()\n",
    "x_test_scaled['age']=x_test_scaled['age']/100"
   ]
  },
  {
   "cell_type": "code",
   "execution_count": 201,
   "id": "f683d066-8f50-4802-bd68-a07e3f7843c2",
   "metadata": {},
   "outputs": [],
   "source": [
    "class my_NN:\n",
    "    def __init__(self):\n",
    "        self.w1=1\n",
    "        self.w2=1\n",
    "        self.b=0\n",
    "    \n",
    "    def fit(self,x,y,epochs,loss_threshold):\n",
    "        self.w1,self.w2,self.b=self.gradient_descent(x['age'],x['affordibility'],y,epochs,loss_threshold)\n",
    "        print(f'W1 is: {self.w1},W2 is: {self.w2},Bias is: {self.b}')\n",
    "\n",
    "    def prediction(self,x):\n",
    "        weighted_sum=self.w1*x['age']+self.w2*x['affordibility']+self.b\n",
    "        pred=1/(1+np.exp(-weighted_sum))\n",
    "        return pred\n",
    "\n",
    "    def log_loss(self,y,y_pred):\n",
    "        e=1e-15\n",
    "        y_pred_new=[max(i,e) for i in y_pred]\n",
    "        y_pred_new=[min(i,1-e) for i in y_pred_new]\n",
    "        y_pred_new=np.array(y_pred_new)\n",
    "        return -np.mean(y*np.log(y_pred_new)+(1-y)*np.log(1-y_pred_new))\n",
    "\n",
    "    def gradient_descent(self,x1,x2,y_truth,epochs,loss_threshold):\n",
    "        w1=w2=1\n",
    "        b=0\n",
    "        learning_rate=0.5\n",
    "        n=len(x1)\n",
    "        \n",
    "        for i in range(epochs):\n",
    "            weighted_sum=w1*x1+w2*x2+b\n",
    "            y_pred=1/(1+np.exp(-weighted_sum))\n",
    "            loss=self.log_loss(y_truth,y_pred)\n",
    "\n",
    "            w1d=(1/n)*np.dot(np.transpose(x1),(y_pred-y_truth))\n",
    "            w2d=(1/n)*np.dot(np.transpose(x2),(y_pred-y_truth))\n",
    "            bd=np.mean(y_pred-y_truth)\n",
    "            \n",
    "            w1=w1-learning_rate*w1d\n",
    "            w2=w2-learning_rate*w2d\n",
    "            b=b-learning_rate*bd\n",
    "            \n",
    "            if loss <= loss_threshold:\n",
    "                break\n",
    "                \n",
    "        return w1,w2,b"
   ]
  },
  {
   "cell_type": "code",
   "execution_count": 203,
   "id": "54374a50-3088-4aef-8fd1-fa992dda4fcd",
   "metadata": {},
   "outputs": [
    {
     "name": "stdout",
     "output_type": "stream",
     "text": [
      "W1 is: 5.051047623653049,W2 is: 1.4569794548473887,Bias is: -2.9596534546250037\n"
     ]
    }
   ],
   "source": [
    "customModel = my_NN()\n",
    "customModel.fit(x_train_scaled, y_train, epochs=3607, loss_threshold=0.4631)"
   ]
  },
  {
   "cell_type": "code",
   "execution_count": 205,
   "id": "8bac74d2-ee56-4c7f-95d4-66b7e8d24074",
   "metadata": {},
   "outputs": [
    {
     "data": {
      "text/plain": [
       "2     0.705020\n",
       "10    0.355836\n",
       "21    0.161599\n",
       "11    0.477919\n",
       "14    0.725586\n",
       "9     0.828987\n",
       "dtype: float64"
      ]
     },
     "execution_count": 205,
     "metadata": {},
     "output_type": "execute_result"
    }
   ],
   "source": [
    "customModel.prediction(x_test_scaled)"
   ]
  }
 ],
 "metadata": {
  "kernelspec": {
   "display_name": "Python 3 (ipykernel)",
   "language": "python",
   "name": "python3"
  },
  "language_info": {
   "codemirror_mode": {
    "name": "ipython",
    "version": 3
   },
   "file_extension": ".py",
   "mimetype": "text/x-python",
   "name": "python",
   "nbconvert_exporter": "python",
   "pygments_lexer": "ipython3",
   "version": "3.12.9"
  }
 },
 "nbformat": 4,
 "nbformat_minor": 5
}
